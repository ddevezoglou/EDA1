{
 "cells": [
  {
   "cell_type": "markdown",
   "id": "a0566f87-65d6-4b83-9c90-8b5aa537c498",
   "metadata": {},
   "source": [
    "<font size='3'><b>Google Play Store</b></font>"
   ]
  },
  {
   "cell_type": "code",
   "execution_count": 1,
   "id": "662da4d7-9f99-472e-be96-479fab16bc4a",
   "metadata": {},
   "outputs": [],
   "source": [
    "import pandas as pd"
   ]
  },
  {
   "cell_type": "code",
   "execution_count": 2,
   "id": "b6c1d3f3-7891-4346-9307-84dc96471108",
   "metadata": {},
   "outputs": [],
   "source": [
    "df=pd.read_csv('googleplaystore.csv')"
   ]
  },
  {
   "cell_type": "code",
   "execution_count": null,
   "id": "5d8d0b86-9eb7-4c72-843a-be9c130176b7",
   "metadata": {},
   "outputs": [],
   "source": [
    "#See some rows\n",
    "df.head()\n",
    "df.tail()"
   ]
  },
  {
   "cell_type": "code",
   "execution_count": 4,
   "id": "b6c1d098-a842-437b-a2d5-38f26f06ef27",
   "metadata": {},
   "outputs": [
    {
     "data": {
      "text/plain": [
       "Index(['App', 'Category', 'Rating', 'Reviews', 'Size', 'Installs', 'Type',\n",
       "       'Price', 'Content Rating', 'Genres', 'Last Updated', 'Current Ver',\n",
       "       'Android Ver'],\n",
       "      dtype='object')"
      ]
     },
     "execution_count": 4,
     "metadata": {},
     "output_type": "execute_result"
    }
   ],
   "source": [
    "df.columns"
   ]
  },
  {
   "cell_type": "code",
   "execution_count": 5,
   "id": "5dff5db0-952f-42ea-b5ce-c4c6137a0af7",
   "metadata": {},
   "outputs": [
    {
     "name": "stdout",
     "output_type": "stream",
     "text": [
      "DataFrame has 10841 rows and 13 columns\n"
     ]
    }
   ],
   "source": [
    "print(f\"DataFrame has {df.shape[0]} rows and {df.shape[1]} columns\")"
   ]
  },
  {
   "cell_type": "code",
   "execution_count": 6,
   "id": "2a297526-d451-489d-95dc-769b125c957c",
   "metadata": {},
   "outputs": [
    {
     "name": "stdout",
     "output_type": "stream",
     "text": [
      "<class 'pandas.core.frame.DataFrame'>\n",
      "RangeIndex: 10841 entries, 0 to 10840\n",
      "Data columns (total 13 columns):\n",
      " #   Column          Non-Null Count  Dtype  \n",
      "---  ------          --------------  -----  \n",
      " 0   App             10841 non-null  object \n",
      " 1   Category        10841 non-null  object \n",
      " 2   Rating          9367 non-null   float64\n",
      " 3   Reviews         10841 non-null  object \n",
      " 4   Size            10841 non-null  object \n",
      " 5   Installs        10841 non-null  object \n",
      " 6   Type            10840 non-null  object \n",
      " 7   Price           10841 non-null  object \n",
      " 8   Content Rating  10840 non-null  object \n",
      " 9   Genres          10841 non-null  object \n",
      " 10  Last Updated    10841 non-null  object \n",
      " 11  Current Ver     10833 non-null  object \n",
      " 12  Android Ver     10838 non-null  object \n",
      "dtypes: float64(1), object(12)\n",
      "memory usage: 1.1+ MB\n"
     ]
    }
   ],
   "source": [
    "df.info()"
   ]
  },
  {
   "cell_type": "code",
   "execution_count": 8,
   "id": "6ff94d85-f81b-4311-8eda-03783dc48c91",
   "metadata": {},
   "outputs": [
    {
     "data": {
      "text/html": [
       "<div>\n",
       "<style scoped>\n",
       "    .dataframe tbody tr th:only-of-type {\n",
       "        vertical-align: middle;\n",
       "    }\n",
       "\n",
       "    .dataframe tbody tr th {\n",
       "        vertical-align: top;\n",
       "    }\n",
       "\n",
       "    .dataframe thead th {\n",
       "        text-align: right;\n",
       "    }\n",
       "</style>\n",
       "<table border=\"1\" class=\"dataframe\">\n",
       "  <thead>\n",
       "    <tr style=\"text-align: right;\">\n",
       "      <th></th>\n",
       "      <th>Rating</th>\n",
       "    </tr>\n",
       "  </thead>\n",
       "  <tbody>\n",
       "    <tr>\n",
       "      <th>count</th>\n",
       "      <td>9367.000000</td>\n",
       "    </tr>\n",
       "    <tr>\n",
       "      <th>mean</th>\n",
       "      <td>4.193338</td>\n",
       "    </tr>\n",
       "    <tr>\n",
       "      <th>std</th>\n",
       "      <td>0.537431</td>\n",
       "    </tr>\n",
       "    <tr>\n",
       "      <th>min</th>\n",
       "      <td>1.000000</td>\n",
       "    </tr>\n",
       "    <tr>\n",
       "      <th>25%</th>\n",
       "      <td>4.000000</td>\n",
       "    </tr>\n",
       "    <tr>\n",
       "      <th>50%</th>\n",
       "      <td>4.300000</td>\n",
       "    </tr>\n",
       "    <tr>\n",
       "      <th>75%</th>\n",
       "      <td>4.500000</td>\n",
       "    </tr>\n",
       "    <tr>\n",
       "      <th>max</th>\n",
       "      <td>19.000000</td>\n",
       "    </tr>\n",
       "  </tbody>\n",
       "</table>\n",
       "</div>"
      ],
      "text/plain": [
       "            Rating\n",
       "count  9367.000000\n",
       "mean      4.193338\n",
       "std       0.537431\n",
       "min       1.000000\n",
       "25%       4.000000\n",
       "50%       4.300000\n",
       "75%       4.500000\n",
       "max      19.000000"
      ]
     },
     "execution_count": 8,
     "metadata": {},
     "output_type": "execute_result"
    }
   ],
   "source": [
    "df.describe()\n",
    "#Rating is the only numerical column "
   ]
  },
  {
   "cell_type": "code",
   "execution_count": 10,
   "id": "87006a2a-9897-4695-8dd3-cf91b8316ff0",
   "metadata": {},
   "outputs": [
    {
     "data": {
      "text/plain": [
       "np.int64(3)"
      ]
     },
     "execution_count": 10,
     "metadata": {},
     "output_type": "execute_result"
    }
   ],
   "source": [
    "#Total number of app titles contain astrology \n",
    "df['App'].str.contains('Astrology',case=False).sum()"
   ]
  },
  {
   "cell_type": "code",
   "execution_count": 11,
   "id": "908abdd9-56cc-47dc-bc63-9a5182d8fd42",
   "metadata": {},
   "outputs": [
    {
     "data": {
      "text/plain": [
       "np.float64(4.193338315362443)"
      ]
     },
     "execution_count": 11,
     "metadata": {},
     "output_type": "execute_result"
    }
   ],
   "source": [
    "#Average App Rating \n",
    "df['Rating'].mean()"
   ]
  },
  {
   "cell_type": "code",
   "execution_count": 13,
   "id": "d1a57487-6863-4971-8eef-2e52f9a49b42",
   "metadata": {},
   "outputs": [
    {
     "data": {
      "text/plain": [
       "34"
      ]
     },
     "execution_count": 13,
     "metadata": {},
     "output_type": "execute_result"
    }
   ],
   "source": [
    "#Total Number of unique Categories \n",
    "df['Category'].nunique()"
   ]
  },
  {
   "cell_type": "code",
   "execution_count": 46,
   "id": "c8c8115b-3524-4e39-b9ba-fea048962daa",
   "metadata": {},
   "outputs": [],
   "source": [
    "df['Rating']=df['Rating'].replace(19,1.9)"
   ]
  },
  {
   "cell_type": "code",
   "execution_count": 49,
   "id": "f776ade9-493d-4084-8930-2a03f3fb64df",
   "metadata": {},
   "outputs": [
    {
     "data": {
      "text/plain": [
       "Category\n",
       "EVENTS    4.435556\n",
       "Name: Rating, dtype: float64"
      ]
     },
     "execution_count": 49,
     "metadata": {},
     "output_type": "execute_result"
    }
   ],
   "source": [
    "#Which category getting the highest avg rating\n",
    "df.groupby('Category')['Rating'].mean().sort_values(ascending=False).head(1)"
   ]
  },
  {
   "cell_type": "code",
   "execution_count": 50,
   "id": "0ca6b414-b8fd-4ac5-9044-825888e7c57a",
   "metadata": {},
   "outputs": [
    {
     "data": {
      "text/plain": [
       "274"
      ]
     },
     "execution_count": 50,
     "metadata": {},
     "output_type": "execute_result"
    }
   ],
   "source": [
    "#Total number of apps having 5 star Rating \n",
    "len(df[df['Rating']==5])"
   ]
  },
  {
   "cell_type": "code",
   "execution_count": 53,
   "id": "2003190f-b4c5-442b-aa4d-6ebbf00da1ca",
   "metadata": {},
   "outputs": [],
   "source": [
    "#Average Value of Reviews\n",
    "df['Reviews']=df['Reviews'].replace('3.0M',3.0)"
   ]
  },
  {
   "cell_type": "code",
   "execution_count": 56,
   "id": "a61ecef5-7061-49ca-8f2b-98af4ba62d12",
   "metadata": {},
   "outputs": [],
   "source": [
    "df['Reviews']=df['Reviews'].astype('float')"
   ]
  },
  {
   "cell_type": "code",
   "execution_count": 58,
   "id": "6685f114-2200-4ee0-ae4b-7b275d10757b",
   "metadata": {},
   "outputs": [
    {
     "data": {
      "text/plain": [
       "np.float64(444111.9265750392)"
      ]
     },
     "execution_count": 58,
     "metadata": {},
     "output_type": "execute_result"
    }
   ],
   "source": [
    "df['Reviews'].mean()"
   ]
  },
  {
   "cell_type": "code",
   "execution_count": 74,
   "id": "2b951815-4e84-460f-83f9-de422dc969f4",
   "metadata": {},
   "outputs": [],
   "source": [
    "df['Type']=df['Type'].replace('0','Free')"
   ]
  },
  {
   "cell_type": "code",
   "execution_count": 77,
   "id": "d9458bac-9159-43e8-91d5-6ca1d5e1919c",
   "metadata": {},
   "outputs": [
    {
     "data": {
      "text/plain": [
       "Type\n",
       "Free    10040\n",
       "Paid      800\n",
       "Name: count, dtype: int64"
      ]
     },
     "execution_count": 77,
     "metadata": {},
     "output_type": "execute_result"
    }
   ],
   "source": [
    "#Find total number of free and paid apps\n",
    "df.Type.value_counts()"
   ]
  },
  {
   "cell_type": "code",
   "execution_count": 78,
   "id": "e123b3be-7f6e-4e1c-bfdf-93ff44f98d8d",
   "metadata": {},
   "outputs": [
    {
     "data": {
      "text/plain": [
       "2544    Facebook\n",
       "Name: App, dtype: object"
      ]
     },
     "execution_count": 78,
     "metadata": {},
     "output_type": "execute_result"
    }
   ],
   "source": [
    "#Which app has max reviews\n",
    "df[df['Reviews']==df['Reviews'].max()]['App']"
   ]
  },
  {
   "cell_type": "code",
   "execution_count": 83,
   "id": "e85f6cd7-3673-4f27-8202-48c9c6db643a",
   "metadata": {},
   "outputs": [
    {
     "data": {
      "text/plain": [
       "np.int64(483)"
      ]
     },
     "execution_count": 83,
     "metadata": {},
     "output_type": "execute_result"
    }
   ],
   "source": [
    "#Display top 5 apps having highest reviews \n",
    "df.duplicated().sum()"
   ]
  },
  {
   "cell_type": "code",
   "execution_count": null,
   "id": "56fdfc50-231e-4ab6-939c-a6c46041eaa7",
   "metadata": {},
   "outputs": [],
   "source": [
    "df.drop_duplicates()"
   ]
  },
  {
   "cell_type": "code",
   "execution_count": 87,
   "id": "76b7be04-89c0-4058-b89b-0e989c4939d6",
   "metadata": {},
   "outputs": [
    {
     "data": {
      "text/plain": [
       "2544              Facebook\n",
       "3943              Facebook\n",
       "381     WhatsApp Messenger\n",
       "336     WhatsApp Messenger\n",
       "3904    WhatsApp Messenger\n",
       "Name: App, dtype: object"
      ]
     },
     "execution_count": 87,
     "metadata": {},
     "output_type": "execute_result"
    }
   ],
   "source": [
    "df.sort_values('Reviews',ascending=False).head(5)['App']"
   ]
  },
  {
   "cell_type": "code",
   "execution_count": 90,
   "id": "5fdeabe7-ea6e-4c44-80e0-4e297a1c69ad",
   "metadata": {},
   "outputs": [
    {
     "data": {
      "text/plain": [
       "Type\n",
       "Free    4.185940\n",
       "Paid    4.266615\n",
       "Name: Rating, dtype: float64"
      ]
     },
     "execution_count": 90,
     "metadata": {},
     "output_type": "execute_result"
    }
   ],
   "source": [
    "#Average Rating of Free and Paid Apps \n",
    "df.groupby('Type')['Rating'].mean()"
   ]
  },
  {
   "cell_type": "code",
   "execution_count": 93,
   "id": "875ebad1-4ade-4fc8-9b38-22662f9385df",
   "metadata": {},
   "outputs": [],
   "source": [
    "#Display top 5 apps having maximum installs \n",
    "df['Installs']=df['Installs'].replace('Free',0)"
   ]
  },
  {
   "cell_type": "code",
   "execution_count": 95,
   "id": "d81f3d25-59d7-4638-94a5-b4adae4d6397",
   "metadata": {},
   "outputs": [],
   "source": [
    "df['Installs']=df['Installs'].str.replace(',','')"
   ]
  },
  {
   "cell_type": "code",
   "execution_count": 98,
   "id": "e11f49f4-d5b6-43ba-9171-dbd7766d6645",
   "metadata": {},
   "outputs": [],
   "source": [
    "df['Installs']=df['Installs'].str.replace('+','')"
   ]
  },
  {
   "cell_type": "code",
   "execution_count": 101,
   "id": "5f7b0fa1-4f25-4848-bac8-5127798e6dc9",
   "metadata": {},
   "outputs": [],
   "source": [
    "import numpy as np"
   ]
  },
  {
   "cell_type": "code",
   "execution_count": 102,
   "id": "7b2b003c-686e-4bb6-8b1e-a3be5148f4ba",
   "metadata": {},
   "outputs": [],
   "source": [
    "df['Installs']=df['Installs'].replace('NaN',np.nan)"
   ]
  },
  {
   "cell_type": "code",
   "execution_count": 106,
   "id": "3c3a4359-3974-418d-a944-242db2a9fcd5",
   "metadata": {},
   "outputs": [],
   "source": [
    "df['Installs']=df['Installs'].astype(float)"
   ]
  },
  {
   "cell_type": "code",
   "execution_count": 114,
   "id": "11fe5e1e-54d3-4bea-a3c4-381b91327e25",
   "metadata": {},
   "outputs": [
    {
     "data": {
      "text/plain": [
       "152                           Google Play Books\n",
       "335    Messenger – Text and Video Chat for Free\n",
       "336                          WhatsApp Messenger\n",
       "338                Google Chrome: Fast & Secure\n",
       "340                                       Gmail\n",
       "Name: App, dtype: object"
      ]
     },
     "execution_count": 114,
     "metadata": {},
     "output_type": "execute_result"
    }
   ],
   "source": [
    "df[df['Installs']==df['Installs'].max()].head(5)['App']"
   ]
  },
  {
   "cell_type": "code",
   "execution_count": null,
   "id": "36d40c03-8ac7-4872-b86e-6b9fe7305013",
   "metadata": {},
   "outputs": [],
   "source": []
  },
  {
   "cell_type": "code",
   "execution_count": null,
   "id": "97a9c6f4-f6cb-44da-9062-2fc98951c0aa",
   "metadata": {},
   "outputs": [],
   "source": []
  },
  {
   "cell_type": "code",
   "execution_count": null,
   "id": "33249980-0380-4328-ac57-948fbedac0bb",
   "metadata": {},
   "outputs": [],
   "source": []
  },
  {
   "cell_type": "code",
   "execution_count": null,
   "id": "1a094e3a-b9f9-4a27-b0a9-d0a88390cc5d",
   "metadata": {},
   "outputs": [],
   "source": []
  },
  {
   "cell_type": "code",
   "execution_count": null,
   "id": "dcb44cf5-1964-4dbc-aa81-c3f8aa0e184e",
   "metadata": {},
   "outputs": [],
   "source": []
  },
  {
   "cell_type": "code",
   "execution_count": null,
   "id": "4b763b98-b565-40d6-81fc-70e4519c8285",
   "metadata": {},
   "outputs": [],
   "source": []
  },
  {
   "cell_type": "code",
   "execution_count": null,
   "id": "ca9d9889-970c-4445-b074-0016ded5d5ff",
   "metadata": {},
   "outputs": [],
   "source": []
  },
  {
   "cell_type": "code",
   "execution_count": null,
   "id": "f0ba7c1b-ca65-4454-8ba4-733c898246bb",
   "metadata": {},
   "outputs": [],
   "source": []
  }
 ],
 "metadata": {
  "kernelspec": {
   "display_name": "Python 3 (ipykernel)",
   "language": "python",
   "name": "python3"
  },
  "language_info": {
   "codemirror_mode": {
    "name": "ipython",
    "version": 3
   },
   "file_extension": ".py",
   "mimetype": "text/x-python",
   "name": "python",
   "nbconvert_exporter": "python",
   "pygments_lexer": "ipython3",
   "version": "3.10.2"
  },
  "widgets": {
   "application/vnd.jupyter.widget-state+json": {
    "state": {},
    "version_major": 2,
    "version_minor": 0
   }
  }
 },
 "nbformat": 4,
 "nbformat_minor": 5
}
