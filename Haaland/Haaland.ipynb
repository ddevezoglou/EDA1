{
 "cells": [
  {
   "cell_type": "markdown",
   "id": "4b7500d9-4784-4420-bc3b-6ec6e26571c6",
   "metadata": {},
   "source": [
    "<font size=\"3\"><b>Haaland Graph</b> </font>"
   ]
  },
  {
   "cell_type": "code",
   "execution_count": 1,
   "id": "2dbb912a-b3ae-4f08-a4e7-300c8e80cdac",
   "metadata": {},
   "outputs": [],
   "source": [
    "import pandas as pd \n",
    "import matplotlib.pyplot as plt\n",
    "import seaborn as sns \n",
    "import numpy as np "
   ]
  },
  {
   "cell_type": "code",
   "execution_count": 2,
   "id": "4852d67e-c927-439f-8f52-a30a5e512cda",
   "metadata": {},
   "outputs": [],
   "source": [
    "df=pd.read_csv(\"haaland_2022.csv\")"
   ]
  },
  {
   "cell_type": "code",
   "execution_count": 3,
   "id": "631559a9-c2a6-49e9-bb3a-32d4f81beaa0",
   "metadata": {},
   "outputs": [
    {
     "data": {
      "text/html": [
       "<div>\n",
       "<style scoped>\n",
       "    .dataframe tbody tr th:only-of-type {\n",
       "        vertical-align: middle;\n",
       "    }\n",
       "\n",
       "    .dataframe tbody tr th {\n",
       "        vertical-align: top;\n",
       "    }\n",
       "\n",
       "    .dataframe thead th {\n",
       "        text-align: right;\n",
       "    }\n",
       "</style>\n",
       "<table border=\"1\" class=\"dataframe\">\n",
       "  <thead>\n",
       "    <tr style=\"text-align: right;\">\n",
       "      <th></th>\n",
       "      <th>id</th>\n",
       "      <th>minute</th>\n",
       "      <th>result</th>\n",
       "      <th>X</th>\n",
       "      <th>Y</th>\n",
       "      <th>xG</th>\n",
       "      <th>player</th>\n",
       "      <th>h_a</th>\n",
       "      <th>player_id</th>\n",
       "      <th>situation</th>\n",
       "      <th>season</th>\n",
       "      <th>shotType</th>\n",
       "      <th>match_id</th>\n",
       "      <th>h_team</th>\n",
       "      <th>a_team</th>\n",
       "      <th>h_goals</th>\n",
       "      <th>a_goals</th>\n",
       "      <th>date</th>\n",
       "      <th>player_assisted</th>\n",
       "      <th>lastAction</th>\n",
       "    </tr>\n",
       "  </thead>\n",
       "  <tbody>\n",
       "    <tr>\n",
       "      <th>57</th>\n",
       "      <td>501296</td>\n",
       "      <td>63</td>\n",
       "      <td>Goal</td>\n",
       "      <td>0.887</td>\n",
       "      <td>0.569</td>\n",
       "      <td>0.135466</td>\n",
       "      <td>Erling Haaland</td>\n",
       "      <td>a</td>\n",
       "      <td>8260</td>\n",
       "      <td>OpenPlay</td>\n",
       "      <td>2022</td>\n",
       "      <td>RightFoot</td>\n",
       "      <td>18368</td>\n",
       "      <td>Leeds</td>\n",
       "      <td>Manchester City</td>\n",
       "      <td>1</td>\n",
       "      <td>3</td>\n",
       "      <td>2022-12-28 20:00:00</td>\n",
       "      <td>Jack Grealish</td>\n",
       "      <td>Pass</td>\n",
       "    </tr>\n",
       "    <tr>\n",
       "      <th>22</th>\n",
       "      <td>486141</td>\n",
       "      <td>49</td>\n",
       "      <td>Goal</td>\n",
       "      <td>0.979</td>\n",
       "      <td>0.548</td>\n",
       "      <td>0.599989</td>\n",
       "      <td>Erling Haaland</td>\n",
       "      <td>a</td>\n",
       "      <td>8260</td>\n",
       "      <td>OpenPlay</td>\n",
       "      <td>2022</td>\n",
       "      <td>LeftFoot</td>\n",
       "      <td>18258</td>\n",
       "      <td>Aston Villa</td>\n",
       "      <td>Manchester City</td>\n",
       "      <td>1</td>\n",
       "      <td>1</td>\n",
       "      <td>2022-09-03 16:30:00</td>\n",
       "      <td>Kevin De Bruyne</td>\n",
       "      <td>Cross</td>\n",
       "    </tr>\n",
       "    <tr>\n",
       "      <th>41</th>\n",
       "      <td>493841</td>\n",
       "      <td>39</td>\n",
       "      <td>SavedShot</td>\n",
       "      <td>0.955</td>\n",
       "      <td>0.599</td>\n",
       "      <td>0.258199</td>\n",
       "      <td>Erling Haaland</td>\n",
       "      <td>a</td>\n",
       "      <td>8260</td>\n",
       "      <td>OpenPlay</td>\n",
       "      <td>2022</td>\n",
       "      <td>Head</td>\n",
       "      <td>18307</td>\n",
       "      <td>Liverpool</td>\n",
       "      <td>Manchester City</td>\n",
       "      <td>1</td>\n",
       "      <td>0</td>\n",
       "      <td>2022-10-16 15:30:00</td>\n",
       "      <td>Kevin De Bruyne</td>\n",
       "      <td>Chipped</td>\n",
       "    </tr>\n",
       "    <tr>\n",
       "      <th>26</th>\n",
       "      <td>488563</td>\n",
       "      <td>66</td>\n",
       "      <td>SavedShot</td>\n",
       "      <td>0.819</td>\n",
       "      <td>0.498</td>\n",
       "      <td>0.088317</td>\n",
       "      <td>Erling Haaland</td>\n",
       "      <td>a</td>\n",
       "      <td>8260</td>\n",
       "      <td>OpenPlay</td>\n",
       "      <td>2022</td>\n",
       "      <td>RightFoot</td>\n",
       "      <td>18274</td>\n",
       "      <td>Wolverhampton Wanderers</td>\n",
       "      <td>Manchester City</td>\n",
       "      <td>0</td>\n",
       "      <td>3</td>\n",
       "      <td>2022-09-17 11:30:00</td>\n",
       "      <td>Jack Grealish</td>\n",
       "      <td>Pass</td>\n",
       "    </tr>\n",
       "    <tr>\n",
       "      <th>13</th>\n",
       "      <td>483631</td>\n",
       "      <td>31</td>\n",
       "      <td>MissedShots</td>\n",
       "      <td>0.906</td>\n",
       "      <td>0.596</td>\n",
       "      <td>0.042736</td>\n",
       "      <td>Erling Haaland</td>\n",
       "      <td>h</td>\n",
       "      <td>8260</td>\n",
       "      <td>OpenPlay</td>\n",
       "      <td>2022</td>\n",
       "      <td>Head</td>\n",
       "      <td>18237</td>\n",
       "      <td>Manchester City</td>\n",
       "      <td>Crystal Palace</td>\n",
       "      <td>4</td>\n",
       "      <td>2</td>\n",
       "      <td>2022-08-27 14:00:00</td>\n",
       "      <td>NaN</td>\n",
       "      <td>Aerial</td>\n",
       "    </tr>\n",
       "  </tbody>\n",
       "</table>\n",
       "</div>"
      ],
      "text/plain": [
       "        id  minute       result      X      Y        xG          player h_a  \\\n",
       "57  501296      63         Goal  0.887  0.569  0.135466  Erling Haaland   a   \n",
       "22  486141      49         Goal  0.979  0.548  0.599989  Erling Haaland   a   \n",
       "41  493841      39    SavedShot  0.955  0.599  0.258199  Erling Haaland   a   \n",
       "26  488563      66    SavedShot  0.819  0.498  0.088317  Erling Haaland   a   \n",
       "13  483631      31  MissedShots  0.906  0.596  0.042736  Erling Haaland   h   \n",
       "\n",
       "    player_id situation  season   shotType  match_id                   h_team  \\\n",
       "57       8260  OpenPlay    2022  RightFoot     18368                    Leeds   \n",
       "22       8260  OpenPlay    2022   LeftFoot     18258              Aston Villa   \n",
       "41       8260  OpenPlay    2022       Head     18307                Liverpool   \n",
       "26       8260  OpenPlay    2022  RightFoot     18274  Wolverhampton Wanderers   \n",
       "13       8260  OpenPlay    2022       Head     18237          Manchester City   \n",
       "\n",
       "             a_team  h_goals  a_goals                 date  player_assisted  \\\n",
       "57  Manchester City        1        3  2022-12-28 20:00:00    Jack Grealish   \n",
       "22  Manchester City        1        1  2022-09-03 16:30:00  Kevin De Bruyne   \n",
       "41  Manchester City        1        0  2022-10-16 15:30:00  Kevin De Bruyne   \n",
       "26  Manchester City        0        3  2022-09-17 11:30:00    Jack Grealish   \n",
       "13   Crystal Palace        4        2  2022-08-27 14:00:00              NaN   \n",
       "\n",
       "   lastAction  \n",
       "57       Pass  \n",
       "22      Cross  \n",
       "41    Chipped  \n",
       "26       Pass  \n",
       "13     Aerial  "
      ]
     },
     "execution_count": 3,
     "metadata": {},
     "output_type": "execute_result"
    }
   ],
   "source": [
    "df.sample(5)"
   ]
  },
  {
   "cell_type": "code",
   "execution_count": 4,
   "id": "40f44afe-6fc6-42f8-8559-8f5a45c7119d",
   "metadata": {},
   "outputs": [
    {
     "data": {
      "text/plain": [
       "array(['MissedShots', 'Goal', 'BlockedShot', 'SavedShot', 'ShotOnPost'],\n",
       "      dtype=object)"
      ]
     },
     "execution_count": 4,
     "metadata": {},
     "output_type": "execute_result"
    }
   ],
   "source": [
    "df['result'].unique()"
   ]
  },
  {
   "cell_type": "code",
   "execution_count": 5,
   "id": "d558da78-96b3-4080-8eee-9c196d517b35",
   "metadata": {},
   "outputs": [
    {
     "data": {
      "text/plain": [
       "array(['OpenPlay', 'Penalty', 'FromCorner', 'SetPiece'], dtype=object)"
      ]
     },
     "execution_count": 5,
     "metadata": {},
     "output_type": "execute_result"
    }
   ],
   "source": [
    "df['situation'].unique()"
   ]
  },
  {
   "cell_type": "code",
   "execution_count": 6,
   "id": "1997e35e-a0ad-4259-8122-2a71be044e2e",
   "metadata": {},
   "outputs": [
    {
     "data": {
      "text/plain": [
       "h_a\n",
       "h    62\n",
       "a    61\n",
       "Name: count, dtype: int64"
      ]
     },
     "execution_count": 6,
     "metadata": {},
     "output_type": "execute_result"
    }
   ],
   "source": [
    "df['h_a'].value_counts()"
   ]
  },
  {
   "cell_type": "code",
   "execution_count": 7,
   "id": "03d7b7a4-24aa-4405-84c0-fb904914ccbb",
   "metadata": {},
   "outputs": [],
   "source": [
    "from mplsoccer import VerticalPitch"
   ]
  },
  {
   "cell_type": "code",
   "execution_count": 8,
   "id": "6413e9a1-2b09-4710-af30-c8be8296c15c",
   "metadata": {},
   "outputs": [],
   "source": [
    "#In order to work with mplsoccer we need to have to coordinates in a scale 0-100 value \n",
    "#Original df has them scaled from 0-1\n",
    "#These are the metrics we will use"
   ]
  },
  {
   "cell_type": "code",
   "execution_count": 9,
   "id": "646d6462-8459-4592-a2f7-7e230204dee6",
   "metadata": {},
   "outputs": [],
   "source": [
    "df['X']=df['X']*100"
   ]
  },
  {
   "cell_type": "code",
   "execution_count": 10,
   "id": "bea36909-6a5e-4249-aa0e-30df0007ba41",
   "metadata": {},
   "outputs": [],
   "source": [
    "df['Y']=df['Y']*100"
   ]
  },
  {
   "cell_type": "code",
   "execution_count": 11,
   "id": "db855bd7-7fcd-4864-885c-e76ded6da57b",
   "metadata": {},
   "outputs": [],
   "source": [
    "total_shots=df.shape[0]"
   ]
  },
  {
   "cell_type": "code",
   "execution_count": 12,
   "id": "90f093b7-5ff4-45e5-aae0-62620f9729fc",
   "metadata": {},
   "outputs": [
    {
     "name": "stdout",
     "output_type": "stream",
     "text": [
      "Erling Haaland has a total of 123 shots.\n"
     ]
    }
   ],
   "source": [
    "print(f\"Erling Haaland has a total of {total_shots} shots.\")"
   ]
  },
  {
   "cell_type": "code",
   "execution_count": 13,
   "id": "5519aa45-f5b3-4f32-9126-2abf8270c043",
   "metadata": {},
   "outputs": [],
   "source": [
    "total_goals=df[df['result']=='Goal'].shape[0]"
   ]
  },
  {
   "cell_type": "code",
   "execution_count": 14,
   "id": "8415adc4-05e7-4f6e-8fb9-97b4e78e6d4f",
   "metadata": {},
   "outputs": [
    {
     "name": "stdout",
     "output_type": "stream",
     "text": [
      "Erling Haaland has a total of 123 shots.\n"
     ]
    }
   ],
   "source": [
    "print(f\"Erling Haaland has a total of {total_shots} shots.\")"
   ]
  },
  {
   "cell_type": "code",
   "execution_count": 15,
   "id": "14601ceb-5aab-4f1b-8962-ec666772e3d2",
   "metadata": {},
   "outputs": [],
   "source": [
    "total_xG=round(sum(df['xG']),2)"
   ]
  },
  {
   "cell_type": "code",
   "execution_count": 16,
   "id": "f08fd0d9-f5a6-49a3-8921-3dbfcb795679",
   "metadata": {},
   "outputs": [
    {
     "name": "stdout",
     "output_type": "stream",
     "text": [
      "Erling Haaland has a total of 32.76 xG.\n"
     ]
    }
   ],
   "source": [
    "print(f\"Erling Haaland has a total of {total_xG} xG.\")"
   ]
  },
  {
   "cell_type": "code",
   "execution_count": 17,
   "id": "58dc6e07-dfa5-4d1e-b7cd-6bd78b471b12",
   "metadata": {},
   "outputs": [
    {
     "name": "stdout",
     "output_type": "stream",
     "text": [
      "Erling Haaland has  0.27 xG per shot.\n"
     ]
    }
   ],
   "source": [
    "xG_per_shot=round(total_xG/total_shots,2)\n",
    "print(f\"Erling Haaland has  {xG_per_shot} xG per shot.\")"
   ]
  },
  {
   "cell_type": "code",
   "execution_count": 18,
   "id": "76afad0b-0aef-4a98-a3f2-36e8cfc06337",
   "metadata": {},
   "outputs": [],
   "source": [
    "points_avg_distance=df['X'].mean()"
   ]
  },
  {
   "cell_type": "code",
   "execution_count": 19,
   "id": "e47b8082-b1e8-48cf-b046-c32e49ac5cc2",
   "metadata": {},
   "outputs": [],
   "source": [
    "actual_avg_dist=round(120-(df['X']*1.2).mean(),1)"
   ]
  },
  {
   "cell_type": "code",
   "execution_count": 20,
   "id": "fa9d35f6-ae01-47a5-bcfe-37fb2debab68",
   "metadata": {},
   "outputs": [
    {
     "data": {
      "text/plain": [
       "np.float64(11.7)"
      ]
     },
     "execution_count": 20,
     "metadata": {},
     "output_type": "execute_result"
    }
   ],
   "source": [
    "actual_avg_dist"
   ]
  },
  {
   "cell_type": "code",
   "execution_count": 21,
   "id": "d43d2268-27ae-4529-881a-2ba1afcf06c6",
   "metadata": {},
   "outputs": [],
   "source": [
    "#Graph\n",
    "#Set the font"
   ]
  },
  {
   "cell_type": "code",
   "execution_count": 22,
   "id": "a2ed2ee7-db4d-44eb-a805-f1f9cddb55a2",
   "metadata": {},
   "outputs": [],
   "source": [
    "background_color='#0C0D0E'"
   ]
  },
  {
   "cell_type": "code",
   "execution_count": 23,
   "id": "47fca9fc-5bd3-46bf-9d97-6fa16a5ad531",
   "metadata": {},
   "outputs": [],
   "source": [
    "import matplotlib.font_manager as font_manager"
   ]
  },
  {
   "cell_type": "code",
   "execution_count": 24,
   "id": "78df6d3a-9280-4857-bfb3-32523a8a2704",
   "metadata": {},
   "outputs": [],
   "source": [
    "font_path=\"font/Arvo-Regular.ttf\""
   ]
  },
  {
   "cell_type": "code",
   "execution_count": 25,
   "id": "842b3b32-a248-4db8-8840-a2c3617d3a84",
   "metadata": {},
   "outputs": [],
   "source": [
    "font_props=font_manager.FontProperties(fname=font_path)"
   ]
  },
  {
   "cell_type": "code",
   "execution_count": 26,
   "id": "fc3cd511-af93-4603-afd3-28c910f022d6",
   "metadata": {},
   "outputs": [
    {
     "data": {
      "text/plain": [
       "Text(0.68, 0, '0.27')"
      ]
     },
     "execution_count": 26,
     "metadata": {},
     "output_type": "execute_result"
    },
    {
     "data": {
      "image/png": "[encoded data removed]",
      "text/plain": [
       "<Figure size 800x1200 with 3 Axes>"
      ]
     },
     "metadata": {},
     "output_type": "display_data"
    }
   ],
   "source": [
    "#Canvas figsize=(width,height)\n",
    "fig=plt.figure(figsize=(8,12))   #Total Canvas in inches !!!!!!!!!!\n",
    "\n",
    "\n",
    "\n",
    "#set the background color\n",
    "fig.patch.set_facecolor(background_color)\n",
    "#Now we create 3 sections for the background\n",
    "\n",
    "\n",
    "\n",
    "\n",
    "#ax1=left  bottom width height{corners}\n",
    "ax1=fig.add_axes([0,.7,1,0.2])\n",
    "ax1.set_facecolor(background_color)\n",
    "ax1.set_xlim(0,1) #Min max values of x axes \n",
    "ax1.set_ylim(0,1) #Min max value fro y axes \n",
    "\n",
    "\n",
    "#ax1 text (x,y,s,fontdict)\n",
    "ax1.text(\n",
    "    x=.5,\n",
    "    y=.85,\n",
    "    s=\"Erling Haaland\",\n",
    "    fontsize=20,\n",
    "    fontproperties=font_props,\n",
    "    fontweight='bold',\n",
    "    color='white',\n",
    "    ha='center'   \n",
    ")\n",
    "ax1.text(\n",
    "    x=.5,\n",
    "    y=.75,\n",
    "    s=\"All shots in the Premier League 2022-2023\",\n",
    "    fontsize=14,\n",
    "    fontproperties=font_props,\n",
    "    fontweight='bold',\n",
    "    color='white',\n",
    "    ha='center'   \n",
    ")\n",
    "\n",
    "\n",
    "ax1.text(\n",
    "    x=.25,\n",
    "    y=.5,\n",
    "    s=\"Low Quality chance \",\n",
    "    fontsize=12,\n",
    "    fontproperties=font_props,\n",
    "    fontweight='bold',\n",
    "    color='white',\n",
    "    ha='center'   \n",
    ")\n",
    "\n",
    "\n",
    "#We need to create the scatter points between the L-H Quality Chances \n",
    "#We need to do this 4 times (4 circles)\n",
    "#.scatter(x,y,size,color,marker{circle,crosses},colormap)\n",
    "#1\n",
    "ax1.scatter(\n",
    "    x=0.37,\n",
    "    y=0.53,\n",
    "    s=100,\n",
    "    color=background_color,\n",
    "    edgecolor='white',\n",
    "    linewidth=.8\n",
    ")\n",
    "#2\n",
    "ax1.scatter(\n",
    "    x=0.42,\n",
    "    y=0.53,\n",
    "    s=200,\n",
    "    color=background_color,\n",
    "    edgecolor='white',\n",
    "    linewidth=.8\n",
    ")\n",
    "#3\n",
    "ax1.scatter(\n",
    "    x=0.48,\n",
    "    y=0.53,\n",
    "    s=300,\n",
    "    color=background_color,\n",
    "    edgecolor='white',\n",
    "    linewidth=.8\n",
    ")\n",
    "#4\n",
    "ax1.scatter(\n",
    "    x=0.54,\n",
    "    y=0.53,\n",
    "    s=400,\n",
    "    color=background_color,\n",
    "    edgecolor='white',\n",
    "    linewidth=.8\n",
    ")\n",
    "#5\n",
    "ax1.scatter(\n",
    "    x=0.6,\n",
    "    y=0.53,\n",
    "    s=500,\n",
    "    color=background_color,\n",
    "    edgecolor='white',\n",
    "    linewidth=.8\n",
    ")\n",
    "\n",
    "\n",
    "\n",
    "ax1.text(\n",
    "    x=.75,\n",
    "    y=.5,\n",
    "    s=\"High Quality Chance\",\n",
    "    fontsize=12,\n",
    "    fontproperties=font_props,\n",
    "    fontweight='bold',\n",
    "    color='white',\n",
    "    ha='center'   \n",
    ")\n",
    "#And to Add the last row \n",
    "\n",
    "ax1.text(\n",
    "    x=0.43,\n",
    "    y=0.28,\n",
    "    s=\"Goal\",\n",
    "    fontproperties=font_props,\n",
    "    fontweight='bold',\n",
    "    color='white',\n",
    "    ha='center'\n",
    ")\n",
    "\n",
    "ax1.scatter(\n",
    "    x=0.47,\n",
    "    y=0.31,\n",
    "    s=100,\n",
    "    color='red',\n",
    "    edgecolor='white',\n",
    "    linewidth=0.8\n",
    ")\n",
    "\n",
    "ax1.scatter(\n",
    "    x=0.52,\n",
    "    y=0.31,\n",
    "    s=100,\n",
    "    color=background_color,\n",
    "    edgecolor='white',\n",
    "    linewidth=0.8\n",
    ")\n",
    "\n",
    "\n",
    "\n",
    "ax1.text(\n",
    "    x=0.58,\n",
    "    y=0.28,\n",
    "    s=\"No Goal\",\n",
    "    fontproperties=font_props,\n",
    "    fontweight='bold',\n",
    "    color='white',\n",
    "    ha='center'\n",
    ")\n",
    "\n",
    "# END OF AX1\n",
    "\n",
    "\n",
    "\n",
    "\n",
    "\n",
    "\n",
    "\n",
    "#ax2 \n",
    "ax2=fig.add_axes([.05,.25,.9,0.5])\n",
    "ax2.set_facecolor(background_color)\n",
    "\n",
    "#Plot the pitch \n",
    "pitch=VerticalPitch(\n",
    "    pitch_type='opta',\n",
    "    half=True,\n",
    "    pitch_color=background_color,\n",
    "    pad_bottom=0.5,\n",
    "    line_color='white',\n",
    "    linewidth=.75,\n",
    "    axis=True,\n",
    "    label=True\n",
    ")\n",
    "#Draw the pitch in ax2\n",
    "pitch.draw(ax=ax2)\n",
    "\n",
    "\n",
    "ax2.scatter(x=90,\n",
    "            y=points_avg_distance,\n",
    "            s=100,\n",
    "            color='white',\n",
    "            linewidth=.8\n",
    "           )\n",
    "ax2.plot([90,90],[100,points_avg_distance],color='white',linewidth=.8)\n",
    "ax2.text(\n",
    "    x=90,\n",
    "    y=points_avg_distance-4,\n",
    "    s = f\"Average Distance: \\n {actual_avg_dist} yards\",\n",
    "    fontsize=10,\n",
    "    fontproperties=font_props,\n",
    "    color='white',\n",
    "    ha='center'\n",
    ")\n",
    "\n",
    "\n",
    "\n",
    "#Now we need to plot our df\n",
    "for index,row in df.iterrows():\n",
    "    pitch.scatter(\n",
    "        row['X'],\n",
    "        row['Y'],\n",
    "        s=300*row['xG'],\n",
    "        color='red' if row['result']=='Goal' else background_color,\n",
    "        ax=ax2,\n",
    "        alpha=.7,\n",
    "        linewidth=0.8,\n",
    "        edgecolor='white'\n",
    "    )\n",
    "\n",
    "\n",
    "#ax3\n",
    "ax3=fig.add_axes([0,.2,1,0.05])\n",
    "ax3.set_facecolor(background_color)\n",
    "\n",
    "\n",
    "ax3.text(\n",
    "    x=0.25,\n",
    "    y=.5,\n",
    "    s=\"Shots\",\n",
    "    fontsize=20,\n",
    "    fontproperties=font_props,\n",
    "    fontweight='bold',\n",
    "    color='white',\n",
    "    ha='left'\n",
    "    \n",
    ")\n",
    "ax3.text(x=0.25,y=0,s=f\"{total_shots}\",fontsize=16,fontproperties=font_props,color='red',ha='left')\n",
    "\n",
    "ax3.text(\n",
    "    x=0.38,\n",
    "    y=.5,\n",
    "    s=\"Goals\",\n",
    "    fontsize=20,\n",
    "    fontproperties=font_props,\n",
    "    fontweight='bold',\n",
    "    color='white',\n",
    "    ha='left'\n",
    ")\n",
    "ax3.text(x=0.38,y=0,s=f\"{total_goals}\",fontsize=16,fontproperties=font_props,color='red',ha='left')\n",
    "\n",
    "\n",
    "\n",
    "ax3.text(\n",
    "    x=0.51,\n",
    "    y=.5,\n",
    "    s=\"Total xG\",\n",
    "    fontsize=20,\n",
    "    fontproperties=font_props,\n",
    "    fontweight='bold',\n",
    "    color='white',\n",
    "    ha='left'\n",
    "    \n",
    ")\n",
    "ax3.text(x=0.51,y=0,s=f\"{total_xG}\",fontsize=16,fontproperties=font_props,color='red',ha='left')\n",
    "ax3.text(\n",
    "    x=0.68,\n",
    "    y=.5,\n",
    "    s=\"xG/Shot\",\n",
    "    fontsize=20,\n",
    "    fontproperties=font_props,\n",
    "    fontweight='bold',\n",
    "    color='white',\n",
    "    ha='left'\n",
    "    \n",
    ")\n",
    "ax3.text(x=0.68,y=0,s=f\"{xG_per_shot}\",fontsize=16,fontproperties=font_props,color='red',ha='left')"
   ]
  },
  {
   "cell_type": "code",
   "execution_count": 27,
   "id": "399e31cf-96b2-491c-8faa-840b04594187",
   "metadata": {},
   "outputs": [],
   "source": [
    "fig.savefig('haaland_2022.png')"
   ]
  },
  {
   "cell_type": "code",
   "execution_count": null,
   "id": "9fea7b1b-fc92-42ac-8b6c-4629296f12e8",
   "metadata": {},
   "outputs": [],
   "source": []
  },
  {
   "cell_type": "code",
   "execution_count": null,
   "id": "2fa693e9-df44-4864-85c5-93733af016c7",
   "metadata": {},
   "outputs": [],
   "source": []
  },
  {
   "cell_type": "code",
   "execution_count": null,
   "id": "e95b3963-0fd4-48dd-9eb6-1a832b54249f",
   "metadata": {},
   "outputs": [],
   "source": []
  },
  {
   "cell_type": "code",
   "execution_count": null,
   "id": "f3081e4a-0b6c-4933-8e87-dc5e1533ddca",
   "metadata": {},
   "outputs": [],
   "source": []
  },
  {
   "cell_type": "code",
   "execution_count": null,
   "id": "8919a931-e860-45e8-8d5b-80c1be4f9020",
   "metadata": {},
   "outputs": [],
   "source": []
  },
  {
   "cell_type": "code",
   "execution_count": null,
   "id": "0dfe007b-c454-4206-a715-54d33ad349b2",
   "metadata": {},
   "outputs": [],
   "source": []
  },
  {
   "cell_type": "code",
   "execution_count": null,
   "id": "dba36253-35cf-455f-9c63-8271e553c078",
   "metadata": {},
   "outputs": [],
   "source": []
  },
  {
   "cell_type": "code",
   "execution_count": null,
   "id": "4b0bb232-b55b-4df3-b0f0-ad4bb7432f71",
   "metadata": {},
   "outputs": [],
   "source": []
  },
  {
   "cell_type": "code",
   "execution_count": null,
   "id": "1dc3f80c-61ff-4213-9277-2ab55a592c91",
   "metadata": {},
   "outputs": [],
   "source": []
  },
  {
   "cell_type": "code",
   "execution_count": null,
   "id": "26ae4db4-649a-4150-9652-5bc324b28113",
   "metadata": {},
   "outputs": [],
   "source": []
  },
  {
   "cell_type": "code",
   "execution_count": null,
   "id": "affbefb5-4e9a-477c-bb3d-ccfda59b66e0",
   "metadata": {},
   "outputs": [],
   "source": []
  },
  {
   "cell_type": "code",
   "execution_count": null,
   "id": "3a555503-31aa-47e3-8087-c040b7bfdb95",
   "metadata": {},
   "outputs": [],
   "source": []
  },
  {
   "cell_type": "code",
   "execution_count": null,
   "id": "2a03fb8e-0fe0-49da-8d48-855f0537bf4e",
   "metadata": {},
   "outputs": [],
   "source": []
  },
  {
   "cell_type": "code",
   "execution_count": null,
   "id": "c115a88f-bdf7-41a4-ae6e-d66ffd1e93a7",
   "metadata": {},
   "outputs": [],
   "source": []
  },
  {
   "cell_type": "code",
   "execution_count": null,
   "id": "1c2e1871-ae15-4dd0-bd95-de79da9c4914",
   "metadata": {},
   "outputs": [],
   "source": []
  },
  {
   "cell_type": "code",
   "execution_count": null,
   "id": "02beb22d-9ff7-4a70-b187-20d34b22831f",
   "metadata": {},
   "outputs": [],
   "source": []
  },
  {
   "cell_type": "code",
   "execution_count": null,
   "id": "2783959c-dc5b-4a51-9eae-26992be90a2e",
   "metadata": {},
   "outputs": [],
   "source": []
  },
  {
   "cell_type": "code",
   "execution_count": null,
   "id": "b9155458-4b3d-4834-8065-a5023731c079",
   "metadata": {},
   "outputs": [],
   "source": []
  },
  {
   "cell_type": "code",
   "execution_count": null,
   "id": "43b1b574-030b-4d4f-a8d2-6534238234fe",
   "metadata": {},
   "outputs": [],
   "source": []
  },
  {
   "cell_type": "code",
   "execution_count": null,
   "id": "57e1d707-0427-4683-9c7c-f792bf12bc6b",
   "metadata": {},
   "outputs": [],
   "source": []
  },
  {
   "cell_type": "code",
   "execution_count": null,
   "id": "4598fc69-2f98-4817-bd7f-317db6bed087",
   "metadata": {},
   "outputs": [],
   "source": []
  },
  {
   "cell_type": "code",
   "execution_count": null,
   "id": "ebfdf194-bd9c-4007-94a6-9e294b8c3187",
   "metadata": {},
   "outputs": [],
   "source": []
  },
  {
   "cell_type": "code",
   "execution_count": null,
   "id": "7fdcc01f-74d6-4f9f-915e-eb7661c2633e",
   "metadata": {},
   "outputs": [],
   "source": []
  },
  {
   "cell_type": "code",
   "execution_count": null,
   "id": "dc5acc3a-e8d3-4cde-b010-3c00b40b8af2",
   "metadata": {},
   "outputs": [],
   "source": []
  },
  {
   "cell_type": "code",
   "execution_count": null,
   "id": "30af625a-0a4f-4015-b20c-fda68bdbd978",
   "metadata": {},
   "outputs": [],
   "source": []
  },
  {
   "cell_type": "code",
   "execution_count": null,
   "id": "2a5d94ad-a85a-49ee-a895-d6ada6e6a555",
   "metadata": {},
   "outputs": [],
   "source": []
  },
  {
   "cell_type": "code",
   "execution_count": null,
   "id": "9b2e1b64-95c5-4bb5-93e0-4685144304e8",
   "metadata": {},
   "outputs": [],
   "source": []
  },
  {
   "cell_type": "code",
   "execution_count": null,
   "id": "aed2355c-6ccb-4ebc-a6b2-1ce26a454685",
   "metadata": {},
   "outputs": [],
   "source": []
  },
  {
   "cell_type": "code",
   "execution_count": null,
   "id": "05394fb8-5441-46ba-a0e2-dc35c53b8fc3",
   "metadata": {},
   "outputs": [],
   "source": []
  },
  {
   "cell_type": "code",
   "execution_count": null,
   "id": "782afdc6-999d-42e0-ab2a-3abeaec31a3d",
   "metadata": {},
   "outputs": [],
   "source": []
  },
  {
   "cell_type": "code",
   "execution_count": null,
   "id": "3478ebea-1fe5-4719-9f32-de72837d7b8b",
   "metadata": {},
   "outputs": [],
   "source": []
  },
  {
   "cell_type": "code",
   "execution_count": null,
   "id": "9d2e9a7a-15fd-4899-8333-8ed4bedb11c8",
   "metadata": {},
   "outputs": [],
   "source": []
  },
  {
   "cell_type": "code",
   "execution_count": null,
   "id": "e55752ff-ee63-42ef-9794-e1e804ea6888",
   "metadata": {},
   "outputs": [],
   "source": []
  },
  {
   "cell_type": "code",
   "execution_count": null,
   "id": "bbc248c1-2b34-407a-9f06-fbaa50475b87",
   "metadata": {},
   "outputs": [],
   "source": []
  },
  {
   "cell_type": "code",
   "execution_count": null,
   "id": "e84293d4-ecef-477e-9fe1-5c81e74847cf",
   "metadata": {},
   "outputs": [],
   "source": []
  },
  {
   "cell_type": "code",
   "execution_count": null,
   "id": "8c319f68-867b-40b2-9f60-9ba5a5f944ed",
   "metadata": {},
   "outputs": [],
   "source": []
  },
  {
   "cell_type": "code",
   "execution_count": null,
   "id": "310ffca7-ba67-4c7b-9737-ff773c16f86d",
   "metadata": {},
   "outputs": [],
   "source": []
  },
  {
   "cell_type": "code",
   "execution_count": null,
   "id": "43e6aa5f-9e19-4d5a-8457-302b4e5c61ae",
   "metadata": {},
   "outputs": [],
   "source": []
  },
  {
   "cell_type": "code",
   "execution_count": null,
   "id": "33680562-6443-48ac-a465-14d26a45809f",
   "metadata": {},
   "outputs": [],
   "source": []
  },
  {
   "cell_type": "code",
   "execution_count": null,
   "id": "146a622f-7548-4bb8-87f7-9b01e642fbc1",
   "metadata": {},
   "outputs": [],
   "source": []
  },
  {
   "cell_type": "code",
   "execution_count": null,
   "id": "53c7e55d-a42c-4ca7-9507-98d3054a8aec",
   "metadata": {},
   "outputs": [],
   "source": []
  }
 ],
 "metadata": {
  "kernelspec": {
   "display_name": "Python 3 (ipykernel)",
   "language": "python",
   "name": "python3"
  },
  "language_info": {
   "codemirror_mode": {
    "name": "ipython",
    "version": 3
   },
   "file_extension": ".py",
   "mimetype": "text/x-python",
   "name": "python",
   "nbconvert_exporter": "python",
   "pygments_lexer": "ipython3",
   "version": "3.10.2"
  },
  "widgets": {
   "application/vnd.jupyter.widget-state+json": {
    "state": {},
    "version_major": 2,
    "version_minor": 0
   }
  }
 },
 "nbformat": 4,
 "nbformat_minor": 5
}
