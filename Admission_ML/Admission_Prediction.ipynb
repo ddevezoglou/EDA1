{
 "cells": [
  {
   "cell_type": "code",
   "execution_count": 1,
   "id": "c10d5046-a3fb-42e3-bcd1-4b09c8b5ab3e",
   "metadata": {},
   "outputs": [],
   "source": [
    "import pandas as pd \n",
    "from sklearn.model_selection import train_test_split \n",
    "from sklearn.preprocessing import StandardScaler\n",
    "from sklearn.linear_model import LinearRegression \n",
    "from sklearn.svm import SVR\n",
    "from sklearn.ensemble import RandomForestRegressor\n",
    "from sklearn.ensemble import GradientBoostingRegressor\n",
    "from sklearn import metrics\n",
    "import seaborn as sns \n",
    "import warnings\n",
    "import numpy as np \n",
    "warnings.filterwarnings('ignore')"
   ]
  },
  {
   "cell_type": "code",
   "execution_count": 2,
   "id": "5da48e10-ef53-478a-800f-7d04cf4ee0a5",
   "metadata": {},
   "outputs": [],
   "source": [
    "df=pd.read_csv('Admission_Predict.csv')"
   ]
  },
  {
   "cell_type": "code",
   "execution_count": 3,
   "id": "587cf666-2532-40f8-8442-466471666fd7",
   "metadata": {},
   "outputs": [
    {
     "name": "stdout",
     "output_type": "stream",
     "text": [
      "<class 'pandas.core.frame.DataFrame'>\n",
      "RangeIndex: 400 entries, 0 to 399\n",
      "Data columns (total 9 columns):\n",
      " #   Column             Non-Null Count  Dtype  \n",
      "---  ------             --------------  -----  \n",
      " 0   Serial No.         400 non-null    int64  \n",
      " 1   GRE Score          400 non-null    int64  \n",
      " 2   TOEFL Score        400 non-null    int64  \n",
      " 3   University Rating  400 non-null    int64  \n",
      " 4   SOP                400 non-null    float64\n",
      " 5   LOR                400 non-null    float64\n",
      " 6   CGPA               400 non-null    float64\n",
      " 7   Research           400 non-null    int64  \n",
      " 8   Chance of Admit    400 non-null    float64\n",
      "dtypes: float64(4), int64(5)\n",
      "memory usage: 28.3 KB\n"
     ]
    }
   ],
   "source": [
    "#Basics information\n",
    "df.head()\n",
    "df.tail()\n",
    "df.info()"
   ]
  },
  {
   "cell_type": "code",
   "execution_count": 4,
   "id": "18c357d7-f7ba-4777-ade5-cc239f9f68c7",
   "metadata": {},
   "outputs": [
    {
     "name": "stdout",
     "output_type": "stream",
     "text": [
      "Datasets contains 400 rows and 9 columns. \n"
     ]
    }
   ],
   "source": [
    "print(f'Datasets contains {df.shape[0]} rows and {df.shape[1]} columns. ')"
   ]
  },
  {
   "cell_type": "code",
   "execution_count": 5,
   "id": "22f7754f-9cb8-42b3-a17f-e6edfe487646",
   "metadata": {},
   "outputs": [
    {
     "data": {
      "text/plain": [
       "Serial No.           0\n",
       "GRE Score            0\n",
       "TOEFL Score          0\n",
       "University Rating    0\n",
       "SOP                  0\n",
       "LOR                  0\n",
       "CGPA                 0\n",
       "Research             0\n",
       "Chance of Admit      0\n",
       "dtype: int64"
      ]
     },
     "execution_count": 5,
     "metadata": {},
     "output_type": "execute_result"
    }
   ],
   "source": [
    "#Check null values \n",
    "df.isnull().sum()"
   ]
  },
  {
   "cell_type": "code",
   "execution_count": 6,
   "id": "128d786c-ea36-4459-b7a4-f72408abdcea",
   "metadata": {},
   "outputs": [
    {
     "data": {
      "text/plain": [
       "np.int64(0)"
      ]
     },
     "execution_count": 6,
     "metadata": {},
     "output_type": "execute_result"
    }
   ],
   "source": [
    "#Check duplicated values \n",
    "df.duplicated().sum()"
   ]
  },
  {
   "cell_type": "code",
   "execution_count": 7,
   "id": "f4cc35bc-8174-4ef4-ba2b-b0bb4d14eec1",
   "metadata": {},
   "outputs": [],
   "source": [
    "#Drop irrelevant features \n",
    "df=df.drop('Serial No.',axis=1)"
   ]
  },
  {
   "cell_type": "code",
   "execution_count": 8,
   "id": "ba93796f-0edb-4142-a133-4ebb7f19fd5d",
   "metadata": {},
   "outputs": [],
   "source": [
    "X=df.drop('Chance of Admit ',axis=1)\n",
    "y=df['Chance of Admit ']"
   ]
  },
  {
   "cell_type": "code",
   "execution_count": 9,
   "id": "44e7d427-9d5a-4e3d-8f76-2a687d5fa6fa",
   "metadata": {},
   "outputs": [
    {
     "data": {
      "text/plain": [
       "Index(['GRE Score', 'TOEFL Score', 'University Rating', 'SOP', 'LOR ', 'CGPA',\n",
       "       'Research'],\n",
       "      dtype='object')"
      ]
     },
     "execution_count": 9,
     "metadata": {},
     "output_type": "execute_result"
    }
   ],
   "source": [
    "#Feature Scaling. \n",
    "#Since we 'Research' column is a categorical variable then standard scaling is not applied.\n",
    "X.columns"
   ]
  },
  {
   "cell_type": "code",
   "execution_count": 10,
   "id": "48f65c42-91b1-445a-a43d-7ee3eab7bfaf",
   "metadata": {},
   "outputs": [],
   "source": [
    "sc=StandardScaler()\n",
    "X[['GRE Score', 'TOEFL Score', 'University Rating', 'SOP', 'LOR ', 'CGPA']]=sc.fit_transform(X[['GRE Score', 'TOEFL Score', 'University Rating', 'SOP', 'LOR ', 'CGPA']])"
   ]
  },
  {
   "cell_type": "code",
   "execution_count": 11,
   "id": "edab68bd-38b6-4b96-821e-ae3cd1bf781e",
   "metadata": {},
   "outputs": [],
   "source": [
    "X_train,X_test,y_train,y_test=train_test_split(X,y,test_size=0.2,random_state=42)"
   ]
  },
  {
   "cell_type": "code",
   "execution_count": 12,
   "id": "6009b643-a6a2-471d-8c0c-0b8dadd57436",
   "metadata": {},
   "outputs": [],
   "source": [
    "lr=LinearRegression().fit(X_train,y_train)\n",
    "svm=SVR().fit(X_train,y_train)\n",
    "rf=RandomForestRegressor().fit(X_train,y_train)\n",
    "gb=GradientBoostingRegressor().fit(X_train,y_train)"
   ]
  },
  {
   "cell_type": "code",
   "execution_count": 13,
   "id": "883a11d9-f044-48e0-80b1-d209b3953341",
   "metadata": {},
   "outputs": [],
   "source": [
    "y_pred1=lr.predict(X_test)\n",
    "y_pred2=svm.predict(X_test)\n",
    "y_pred3=rf.predict(X_test)\n",
    "y_pred4=gb.predict(X_test)"
   ]
  },
  {
   "cell_type": "code",
   "execution_count": 14,
   "id": "2fc28c05-57cd-4793-917d-aeecf120aac8",
   "metadata": {},
   "outputs": [],
   "source": [
    "score1 = metrics.r2_score(y_test,y_pred1)\n",
    "score2 = metrics.r2_score(y_test,y_pred2)\n",
    "score3 = metrics.r2_score(y_test,y_pred3)\n",
    "score4 = metrics.r2_score(y_test,y_pred4)"
   ]
  },
  {
   "cell_type": "code",
   "execution_count": 15,
   "id": "5815f57a-273b-4c58-807a-e884bb395f6f",
   "metadata": {},
   "outputs": [
    {
     "name": "stdout",
     "output_type": "stream",
     "text": [
      "0.8212082591486991 0.7535556883241172 0.806981435776111 0.7961065895326181\n"
     ]
    }
   ],
   "source": [
    "\n",
    "print(score1,score2,score3,score4)"
   ]
  },
  {
   "cell_type": "code",
   "execution_count": 16,
   "id": "709b7252-398b-42ce-9b05-e4c8f79dad1f",
   "metadata": {},
   "outputs": [],
   "source": [
    "final_data=pd.DataFrame({'Models':['LR','SVR','RF','GB'],\n",
    "                        'R2_Score':[score1,score2,score3,score4]})"
   ]
  },
  {
   "cell_type": "code",
   "execution_count": 17,
   "id": "0027719d-b356-428e-bb6f-70c864d0776c",
   "metadata": {},
   "outputs": [
    {
     "data": {
      "text/plain": [
       "<Axes: xlabel='Models', ylabel='R2_Score'>"
      ]
     },
     "execution_count": 17,
     "metadata": {},
     "output_type": "execute_result"
    },
    {
     "data": {
      "image/png": "[encoded data removed]",
      "text/plain": [
       "<Figure size 640x480 with 1 Axes>"
      ]
     },
     "metadata": {},
     "output_type": "display_data"
    }
   ],
   "source": [
    "sns.barplot(data=final_data,x=final_data['Models'],y=final_data['R2_Score'],hue='R2_Score',legend=False,palette='tab10')"
   ]
  },
  {
   "cell_type": "code",
   "execution_count": 18,
   "id": "3dabafba-0666-436b-a221-70c42ebba589",
   "metadata": {},
   "outputs": [],
   "source": [
    "#Now the same problem,but this time as  a classification problem "
   ]
  },
  {
   "cell_type": "code",
   "execution_count": 19,
   "id": "5ddb23d0-3394-42f3-b9c2-06c80cec2b7f",
   "metadata": {},
   "outputs": [],
   "source": [
    "y_train=[1 if value>0.8 else 0 for value in y_train]\n",
    "y_test=[1 if value>0.8 else 0 for value in y_test]\n",
    "\n",
    "y_train=np.array(y_train)\n",
    "y_test=np.array(y_test)"
   ]
  },
  {
   "cell_type": "code",
   "execution_count": 20,
   "id": "55083d41-d964-4967-9ead-e3a7cdeb372f",
   "metadata": {},
   "outputs": [],
   "source": [
    "from sklearn.linear_model import LogisticRegression\n",
    "from sklearn import svm\n",
    "from sklearn.neighbors import KNeighborsClassifier\n",
    "from sklearn.ensemble import RandomForestClassifier\n",
    "from sklearn.ensemble import GradientBoostingClassifier\n",
    "from sklearn.metrics import accuracy_score"
   ]
  },
  {
   "cell_type": "code",
   "execution_count": 21,
   "id": "9a7ed00d-e68c-4b60-85e9-3c0c6b5a4f79",
   "metadata": {},
   "outputs": [],
   "source": [
    "log=LogisticRegression().fit(X_train,y_train)\n",
    "y_pred5=log.predict(X_test)\n",
    "score5=accuracy_score(y_test,y_pred5)"
   ]
  },
  {
   "cell_type": "code",
   "execution_count": 22,
   "id": "92e85aa7-e6bd-466e-984a-ea2e1762bcc3",
   "metadata": {},
   "outputs": [],
   "source": [
    "sv=svm.SVC().fit(X_train,y_train)\n",
    "y_pred6=sv.predict(X_test)\n",
    "score6=accuracy_score(y_test,y_pred6)"
   ]
  },
  {
   "cell_type": "code",
   "execution_count": 23,
   "id": "19870027-5ed8-4179-9ca2-5e1657ba1430",
   "metadata": {},
   "outputs": [],
   "source": [
    "knn=KNeighborsClassifier().fit(X_train,y_train)\n",
    "y_pred7=knn.predict(X_test)\n",
    "score7=accuracy_score(y_test,y_pred7)"
   ]
  },
  {
   "cell_type": "code",
   "execution_count": 24,
   "id": "39ded43f-ce32-479f-b17e-41a387370ee6",
   "metadata": {},
   "outputs": [],
   "source": [
    "rfc=RandomForestClassifier().fit(X_train,y_train)\n",
    "y_pred8=rfc.predict(X_test)\n",
    "score8=accuracy_score(y_test,y_pred8)"
   ]
  },
  {
   "cell_type": "code",
   "execution_count": 25,
   "id": "538b1034-3ff6-47cd-9798-70bd44cd4571",
   "metadata": {},
   "outputs": [],
   "source": [
    "gr=GradientBoostingClassifier().fit(X_train,y_train)\n",
    "y_pred9=gr.predict(X_test)\n",
    "score9=accuracy_score(y_test,y_pred9)"
   ]
  },
  {
   "cell_type": "code",
   "execution_count": 26,
   "id": "1b59385c-b095-48a5-92d6-e06562c50cef",
   "metadata": {},
   "outputs": [],
   "source": [
    "final_data1=pd.DataFrame({'Models':['Log','SVM','KNN','RFC','GBC'],\n",
    "                         'ACC_Score':[score5,score6,score7,score8,score9]})"
   ]
  },
  {
   "cell_type": "code",
   "execution_count": 27,
   "id": "a52024dd-441d-4042-8c27-91b2c035bae0",
   "metadata": {},
   "outputs": [
    {
     "data": {
      "image/png": "[encoded data removed]",
      "text/plain": [
       "<Figure size 640x480 with 1 Axes>"
      ]
     },
     "metadata": {},
     "output_type": "display_data"
    }
   ],
   "source": [
    "sns.barplot(data=final_data1,x='Models',y='ACC_Score',hue='Models',legend=False);"
   ]
  },
  {
   "cell_type": "code",
   "execution_count": 28,
   "id": "def34eb7-30d6-475c-9043-68bd1921596b",
   "metadata": {},
   "outputs": [],
   "source": [
    "#Final Model\n",
    "y=[1 if value>0.8 else 0 for value in y]\n",
    "model=GradientBoostingClassifier().fit(X,y)"
   ]
  },
  {
   "cell_type": "code",
   "execution_count": 29,
   "id": "641943f7-8bf9-48ab-a405-d487d7c1bbe2",
   "metadata": {},
   "outputs": [],
   "source": [
    "#We try to predict the following values \n",
    "new_data = [337, 118, 4, 4.5, 4.5, 9.65, 1]\n",
    "new_data_df = pd.DataFrame(new_data, index=X.columns).T"
   ]
  },
  {
   "cell_type": "code",
   "execution_count": 30,
   "id": "6002037f-164c-4d44-a453-2e2447cdb2a0",
   "metadata": {},
   "outputs": [],
   "source": [
    "scaler_columns = ['GRE Score', 'TOEFL Score', 'University Rating', 'SOP', 'LOR ', 'CGPA']\n",
    "scaled_new_data_df = pd.DataFrame(sc.transform(new_data_df[scaler_columns].values), columns=scaler_columns, index=[0])\n",
    "new_data_scaled = pd.concat([scaled_new_data_df, new_data_df['Research']], axis=1)"
   ]
  },
  {
   "cell_type": "code",
   "execution_count": 31,
   "id": "b866212d-caf0-46d3-906e-ea56c8943b8f",
   "metadata": {},
   "outputs": [
    {
     "data": {
      "text/plain": [
       "array([1])"
      ]
     },
     "execution_count": 31,
     "metadata": {},
     "output_type": "execute_result"
    }
   ],
   "source": [
    "model.predict(new_data_scaled)"
   ]
  }
 ],
 "metadata": {
  "kernelspec": {
   "display_name": "Python 3 (ipykernel)",
   "language": "python",
   "name": "python3"
  },
  "language_info": {
   "codemirror_mode": {
    "name": "ipython",
    "version": 3
   },
   "file_extension": ".py",
   "mimetype": "text/x-python",
   "name": "python",
   "nbconvert_exporter": "python",
   "pygments_lexer": "ipython3",
   "version": "3.12.7"
  }
 },
 "nbformat": 4,
 "nbformat_minor": 5
}
